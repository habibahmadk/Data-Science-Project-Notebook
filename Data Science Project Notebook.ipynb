{
  "metadata": {
    "kernelspec": {
      "name": "python",
      "display_name": "Python (Pyodide)",
      "language": "python"
    },
    "language_info": {
      "codemirror_mode": {
        "name": "python",
        "version": 3
      },
      "file_extension": ".py",
      "mimetype": "text/x-python",
      "name": "python",
      "nbconvert_exporter": "python",
      "pygments_lexer": "ipython3",
      "version": "3.8"
    }
  },
  "nbformat_minor": 4,
  "nbformat": 4,
  "cells": [
    {
      "cell_type": "markdown",
      "source": "## Exercise 2 \n- Create a markdown cell with the title of the notebook. ",
      "metadata": {}
    },
    {
      "cell_type": "markdown",
      "source": "## # Data Science Project Notebook\n",
      "metadata": {}
    },
    {
      "cell_type": "markdown",
      "source": "## Exercise 3: \nCreate a markdown cell for an introduction. ",
      "metadata": {}
    },
    {
      "cell_type": "markdown",
      "source": "## Introduction\nThis notebook demonstrates the use of markdown and code cells for basic data science examples.\n",
      "metadata": {}
    },
    {
      "cell_type": "markdown",
      "source": "## Exercise 4: \nCreate a markdown cell to list data science languages.",
      "metadata": {}
    },
    {
      "cell_type": "markdown",
      "source": "## Data Science Languages\n- Python\n- R\n- SQL\n- Julia\n",
      "metadata": {}
    },
    {
      "cell_type": "markdown",
      "source": "## Exercise 5: \nCreate a markdown cell to list data science libraries.",
      "metadata": {}
    },
    {
      "cell_type": "markdown",
      "source": "## Data Science Libraries\n- Pandas\n- NumPy\n- Matplotlib\n- Scikit-learn\n- TensorFlow",
      "metadata": {}
    },
    {
      "cell_type": "markdown",
      "source": "## Exercise 6: \nCreate a markdown cell with a table of Data Science tools.",
      "metadata": {}
    },
    {
      "cell_type": "markdown",
      "source": "## Data Science Tools\n\n| Tool          | Description                   |\n|---------------|-------------------------------|\n| Jupyter       | An open-source web app for interactive computing |\n| Spyder        | An IDE for scientific programming in Python |\n| VS Code       | A source code editor with Python support |\n| GitHub        | A platform for version control and collaboration |\n",
      "metadata": {}
    },
    {
      "cell_type": "markdown",
      "source": "## Exercise 7: \nCreate a markdown cell introducing arithmetic expression examples.",
      "metadata": {}
    },
    {
      "cell_type": "markdown",
      "source": "## Arithmetic Expressions\nThis section demonstrates how to perform basic arithmetic operations such as addition, subtraction, multiplication, and division.\n",
      "metadata": {}
    },
    {
      "cell_type": "markdown",
      "source": "## Exercise 8: \nCreate a code cell to multiply and add numbers.",
      "metadata": {}
    },
    {
      "cell_type": "code",
      "source": "# Multiplying and adding numbers\nresult = (5 * 3) + 7\nresult\n",
      "metadata": {
        "trusted": true
      },
      "outputs": [
        {
          "execution_count": 10,
          "output_type": "execute_result",
          "data": {
            "text/plain": "22"
          },
          "metadata": {}
        }
      ],
      "execution_count": 10
    },
    {
      "cell_type": "markdown",
      "source": "## Exercise 9: \nCreate a code cell to convert minutes to hours.",
      "metadata": {}
    },
    {
      "cell_type": "code",
      "source": "# Convert minutes to hours\nminutes = 150\nhours = minutes / 60\nhours\n",
      "metadata": {
        "trusted": true
      },
      "outputs": [
        {
          "execution_count": 12,
          "output_type": "execute_result",
          "data": {
            "text/plain": "2.5"
          },
          "metadata": {}
        }
      ],
      "execution_count": 12
    },
    {
      "cell_type": "markdown",
      "source": "## Exercise 10: \nInsert a markdown cell to list Objectives. ",
      "metadata": {}
    },
    {
      "cell_type": "markdown",
      "source": "## Objectives\n1. To demonstrate markdown usage in a Jupyter notebook.\n2. To perform basic arithmetic operations using Python.\n3. To understand the conversion of time units (minutes to hours).\n",
      "metadata": {}
    },
    {
      "cell_type": "markdown",
      "source": "## Exercise 11: \nCreate a markdown cell to indicate the Author’s name.",
      "metadata": {}
    },
    {
      "cell_type": "markdown",
      "source": "## Author\nJohn Doe\n",
      "metadata": {}
    },
    {
      "cell_type": "markdown",
      "source": "## Exercise 12: \nShare your notebook through GitHub\n- Upload your notebook to GitHub by:\nCreating a repository on GitHub.\nUploading the notebook file (.ipynb) to the repository.\nSharing the repository link in the notebook or your submission.",
      "metadata": {}
    }
  ]
}